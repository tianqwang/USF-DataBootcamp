{
 "cells": [
  {
   "cell_type": "markdown",
   "metadata": {},
   "source": [
    "# Tianqi  Wang"
   ]
  },
  {
   "cell_type": "markdown",
   "metadata": {},
   "source": [
    "## Question A"
   ]
  },
  {
   "cell_type": "code",
   "execution_count": 62,
   "metadata": {},
   "outputs": [],
   "source": [
    "import numpy as np"
   ]
  },
  {
   "cell_type": "code",
   "execution_count": 495,
   "metadata": {},
   "outputs": [],
   "source": [
    "def REF_basic(A):\n",
    "    # Coerce the data type to be float so to make fraction computation\n",
    "    B=A.copy().astype(np.float) \n",
    "    m,n = B.shape\n",
    "    # Make sure the dimension of input to be n × (n+1), othersie raise error\n",
    "    if m!=n-1: \n",
    "        raise TypeError('This is not a n*(n+1) model')\n",
    "    for i in range(m): # Iterate from the first column\n",
    "        # Make sure there is a pivot for each column\n",
    "        if np.max(abs(B[i:,i])) == 0: \n",
    "            raise TypeError('Matrix is not invertible')\n",
    "        if B[i,i] == 0:# Swap the row to make there is a leading number\n",
    "            change = np.argmax(abs(B[i:,i]))+i \n",
    "            temp = B[i].copy()\n",
    "            B[i] = B[change]\n",
    "            B[change]=temp\n",
    "        for j in range(i+1,m):\n",
    "            B[j]=B[j]-B[i]*B[j,i]/B[i,i] # Do the forward elimination\n",
    "    return B\n"
   ]
  },
  {
   "cell_type": "markdown",
   "metadata": {},
   "source": [
    "#### (a) Test the function in HW1-7"
   ]
  },
  {
   "cell_type": "code",
   "execution_count": 496,
   "metadata": {},
   "outputs": [
    {
     "ename": "TypeError",
     "evalue": "Matrix is not invertible",
     "output_type": "error",
     "traceback": [
      "\u001b[0;31m---------------------------------------------------------------------------\u001b[0m",
      "\u001b[0;31mTypeError\u001b[0m                                 Traceback (most recent call last)",
      "\u001b[0;32m<ipython-input-496-05dc646d408d>\u001b[0m in \u001b[0;36m<module>\u001b[0;34m()\u001b[0m\n\u001b[1;32m      1\u001b[0m \u001b[0mtest1\u001b[0m\u001b[0;34m=\u001b[0m\u001b[0mnp\u001b[0m\u001b[0;34m.\u001b[0m\u001b[0marray\u001b[0m\u001b[0;34m(\u001b[0m\u001b[0;34m[\u001b[0m\u001b[0;34m[\u001b[0m\u001b[0;36m2\u001b[0m\u001b[0;34m,\u001b[0m\u001b[0;36m2\u001b[0m\u001b[0;34m,\u001b[0m\u001b[0;36m2\u001b[0m\u001b[0;34m,\u001b[0m\u001b[0;36m0\u001b[0m\u001b[0;34m]\u001b[0m\u001b[0;34m,\u001b[0m\u001b[0;34m[\u001b[0m\u001b[0;34m-\u001b[0m\u001b[0;36m2\u001b[0m\u001b[0;34m,\u001b[0m\u001b[0;36m5\u001b[0m\u001b[0;34m,\u001b[0m\u001b[0;36m2\u001b[0m\u001b[0;34m,\u001b[0m\u001b[0;36m1\u001b[0m\u001b[0;34m]\u001b[0m\u001b[0;34m,\u001b[0m\u001b[0;34m[\u001b[0m\u001b[0;36m8\u001b[0m\u001b[0;34m,\u001b[0m\u001b[0;36m1\u001b[0m\u001b[0;34m,\u001b[0m\u001b[0;36m4\u001b[0m\u001b[0;34m,\u001b[0m\u001b[0;34m-\u001b[0m\u001b[0;36m1\u001b[0m\u001b[0;34m]\u001b[0m\u001b[0;34m]\u001b[0m\u001b[0;34m)\u001b[0m\u001b[0;34m\u001b[0m\u001b[0m\n\u001b[0;32m----> 2\u001b[0;31m \u001b[0mREF_basic\u001b[0m\u001b[0;34m(\u001b[0m\u001b[0mtest1\u001b[0m\u001b[0;34m)\u001b[0m\u001b[0;34m\u001b[0m\u001b[0m\n\u001b[0m",
      "\u001b[0;32m<ipython-input-495-3a781e51dec4>\u001b[0m in \u001b[0;36mREF_basic\u001b[0;34m(A)\u001b[0m\n\u001b[1;32m      6\u001b[0m     \u001b[0;32mfor\u001b[0m \u001b[0mi\u001b[0m \u001b[0;32min\u001b[0m \u001b[0mrange\u001b[0m\u001b[0;34m(\u001b[0m\u001b[0mm\u001b[0m\u001b[0;34m)\u001b[0m\u001b[0;34m:\u001b[0m \u001b[0;31m# Iterate from the first column\u001b[0m\u001b[0;34m\u001b[0m\u001b[0m\n\u001b[1;32m      7\u001b[0m         \u001b[0;32mif\u001b[0m \u001b[0mnp\u001b[0m\u001b[0;34m.\u001b[0m\u001b[0mmax\u001b[0m\u001b[0;34m(\u001b[0m\u001b[0mabs\u001b[0m\u001b[0;34m(\u001b[0m\u001b[0mB\u001b[0m\u001b[0;34m[\u001b[0m\u001b[0mi\u001b[0m\u001b[0;34m:\u001b[0m\u001b[0;34m,\u001b[0m\u001b[0mi\u001b[0m\u001b[0;34m]\u001b[0m\u001b[0;34m)\u001b[0m\u001b[0;34m)\u001b[0m \u001b[0;34m==\u001b[0m \u001b[0;36m0\u001b[0m\u001b[0;34m:\u001b[0m \u001b[0;31m# Make sure there is a pivot for each column\u001b[0m\u001b[0;34m\u001b[0m\u001b[0m\n\u001b[0;32m----> 8\u001b[0;31m             \u001b[0;32mraise\u001b[0m \u001b[0mTypeError\u001b[0m\u001b[0;34m(\u001b[0m\u001b[0;34m'Matrix is not invertible'\u001b[0m\u001b[0;34m)\u001b[0m\u001b[0;34m\u001b[0m\u001b[0m\n\u001b[0m\u001b[1;32m      9\u001b[0m         \u001b[0;32mif\u001b[0m \u001b[0mB\u001b[0m\u001b[0;34m[\u001b[0m\u001b[0mi\u001b[0m\u001b[0;34m,\u001b[0m\u001b[0mi\u001b[0m\u001b[0;34m]\u001b[0m \u001b[0;34m==\u001b[0m \u001b[0;36m0\u001b[0m\u001b[0;34m:\u001b[0m\u001b[0;34m\u001b[0m\u001b[0m\n\u001b[1;32m     10\u001b[0m             \u001b[0mchange\u001b[0m \u001b[0;34m=\u001b[0m \u001b[0mnp\u001b[0m\u001b[0;34m.\u001b[0m\u001b[0margmax\u001b[0m\u001b[0;34m(\u001b[0m\u001b[0mabs\u001b[0m\u001b[0;34m(\u001b[0m\u001b[0mB\u001b[0m\u001b[0;34m[\u001b[0m\u001b[0mi\u001b[0m\u001b[0;34m:\u001b[0m\u001b[0;34m,\u001b[0m\u001b[0mi\u001b[0m\u001b[0;34m]\u001b[0m\u001b[0;34m)\u001b[0m\u001b[0;34m)\u001b[0m\u001b[0;34m+\u001b[0m\u001b[0mi\u001b[0m \u001b[0;31m# Swap the row to make there is a leading number\u001b[0m\u001b[0;34m\u001b[0m\u001b[0m\n",
      "\u001b[0;31mTypeError\u001b[0m: Matrix is not invertible"
     ]
    }
   ],
   "source": [
    "test1=np.array([[2,2,2,0],[-2,5,2,1],[8,1,4,-1]])\n",
    "REF_basic(test1)"
   ]
  },
  {
   "cell_type": "markdown",
   "metadata": {},
   "source": [
    "#### (b) Test the function in the given array"
   ]
  },
  {
   "cell_type": "code",
   "execution_count": 497,
   "metadata": {},
   "outputs": [
    {
     "name": "stdout",
     "output_type": "stream",
     "text": [
      "[[ 1  2  3  4  6]\n",
      " [ 1  2  5  2 -2]\n",
      " [ 1  1  5  5  1]\n",
      " [ 1  4  1  5  0]]\n",
      "[[ 1.   2.   3.   4.   6. ]\n",
      " [ 0.   2.  -2.   1.  -6. ]\n",
      " [ 0.   0.   1.   1.5 -8. ]\n",
      " [ 0.   0.   0.  -5.   8. ]]\n"
     ]
    }
   ],
   "source": [
    "test2=np.array([[1,2,3,4,6],[1,2,5,2,-2],[1,1,5,5,1],[1,4,1,5,0]])\n",
    "print(test2)\n",
    "print(REF_basic(test2))"
   ]
  },
  {
   "cell_type": "markdown",
   "metadata": {},
   "source": [
    "## Question B"
   ]
  },
  {
   "cell_type": "code",
   "execution_count": 528,
   "metadata": {},
   "outputs": [],
   "source": [
    "# Define the function BackSub\n",
    "def BackSub(A,b):\n",
    "    m,n = A.shape\n",
    "    if len(A.shape)!=2: # A must be a matrix\n",
    "        raise TypeError('Input is not a matrix')\n",
    "    # A must be a square matrix\n",
    "    if m != n: \n",
    "        raise TypeError('Input is not a square matrix')\n",
    "    # A must be an upper triangle square matrix\n",
    "    if np.allclose(A, np.triu(np.round(A,6))) == 0: \n",
    "        raise TypeError('Input is not an upper triangle square matrix')    \n",
    "    if np.linalg.det(A)==0: # A's diagonals are all nonzero\n",
    "        raise TypeError('Input is not an invertible matrix')\n",
    "    if len(b.shape)!=1: # b must be a vector\n",
    "        raise TypeError('The second input is not a vector')\n",
    "    if b.shape[0]!=A.shape[0] :# dimension of b must equal to a\n",
    "        raise TypeError('Two inputs do not match')\n",
    "    else:\n",
    "        # Start the backwards elimination from the last column\n",
    "        for i in range(len(b)-1,-1,-1): \n",
    "            b[i]=b[i]/A[i,i]\n",
    "            A[i,i]=1\n",
    "            # In each column, do the elimination from the diagnal upwards\n",
    "            for j in range(i-1,-1,-1): \n",
    "                b[j]=b[j]-A[j,i]*b[i]\n",
    "                A[j,i]=0\n",
    "    return b\n",
    "\n",
    "def Mysolve(A,b):\n",
    "    row,column = A.shape\n",
    "    B=np.column_stack((A,b))\n",
    "    C=REF_basic(B)\n",
    "    D = C[:,:column]\n",
    "    e = C[:,column]\n",
    "    return BackSub(D,e)\n",
    "    "
   ]
  },
  {
   "cell_type": "markdown",
   "metadata": {},
   "source": [
    "Randomly generate some linear systems to test the function `Mysolve`"
   ]
  },
  {
   "cell_type": "markdown",
   "metadata": {},
   "source": [
    "Test 1"
   ]
  },
  {
   "cell_type": "code",
   "execution_count": 499,
   "metadata": {},
   "outputs": [
    {
     "name": "stdout",
     "output_type": "stream",
     "text": [
      "[[2 6 6]\n",
      " [8 9 0]\n",
      " [0 5 5]]\n",
      "[3 9 8]\n"
     ]
    }
   ],
   "source": [
    "import random\n",
    "test1 = np.array(np.random.randint(0,10,9))\n",
    "test1 = test1.reshape(3,3)\n",
    "b1 = np.array(np.random.randint(0,10,3))\n",
    "print (test1)\n",
    "print (b1)"
   ]
  },
  {
   "cell_type": "code",
   "execution_count": 500,
   "metadata": {},
   "outputs": [
    {
     "data": {
      "text/plain": [
       "array([-3.3       ,  3.93333333, -2.33333333])"
      ]
     },
     "execution_count": 500,
     "metadata": {},
     "output_type": "execute_result"
    }
   ],
   "source": [
    "Mysolve(test1,b1)"
   ]
  },
  {
   "cell_type": "code",
   "execution_count": 501,
   "metadata": {},
   "outputs": [
    {
     "data": {
      "text/plain": [
       "array([-3.3       ,  3.93333333, -2.33333333])"
      ]
     },
     "execution_count": 501,
     "metadata": {},
     "output_type": "execute_result"
    }
   ],
   "source": [
    "np.linalg.solve(test1,b1)"
   ]
  },
  {
   "cell_type": "markdown",
   "metadata": {},
   "source": [
    "Test 2"
   ]
  },
  {
   "cell_type": "code",
   "execution_count": 502,
   "metadata": {},
   "outputs": [
    {
     "name": "stdout",
     "output_type": "stream",
     "text": [
      "[[6 3 2 5]\n",
      " [6 8 8 4]\n",
      " [7 8 8 0]\n",
      " [4 3 3 2]]\n",
      "[1 9 9 8]\n"
     ]
    }
   ],
   "source": [
    "np.random.seed(222)\n",
    "test2 = np.array(np.random.randint(0,10,16))\n",
    "test2 = test2.reshape(4,4)\n",
    "b2 = np.array(np.random.randint(0,10,4))\n",
    "print (test2)\n",
    "print (b2)"
   ]
  },
  {
   "cell_type": "code",
   "execution_count": 503,
   "metadata": {},
   "outputs": [
    {
     "data": {
      "text/plain": [
       "array([  2.46666153, -14.81664357,  13.78331408,   0.61666667])"
      ]
     },
     "execution_count": 503,
     "metadata": {},
     "output_type": "execute_result"
    }
   ],
   "source": [
    "Mysolve(test2,b2)"
   ]
  },
  {
   "cell_type": "code",
   "execution_count": 504,
   "metadata": {},
   "outputs": [
    {
     "data": {
      "text/plain": [
       "array([  2.46666667, -14.81666667,  13.78333333,   0.61666667])"
      ]
     },
     "execution_count": 504,
     "metadata": {},
     "output_type": "execute_result"
    }
   ],
   "source": [
    "np.linalg.solve(test2,b2)"
   ]
  },
  {
   "cell_type": "markdown",
   "metadata": {},
   "source": [
    "Test 3"
   ]
  },
  {
   "cell_type": "code",
   "execution_count": 505,
   "metadata": {},
   "outputs": [
    {
     "name": "stdout",
     "output_type": "stream",
     "text": [
      "[[0 3 7 7 7]\n",
      " [9 4 5 9 4]\n",
      " [9 5 5 4 8]\n",
      " [4 8 0 4 0]\n",
      " [0 1 3 7 5]]\n",
      "[1 2 6 4 2]\n",
      "[ 0.15808574  0.42805316 -0.90165032 -0.01419142  0.87524752]\n",
      "[ 0.15808581  0.42805281 -0.90165017 -0.01419142  0.87524752]\n"
     ]
    }
   ],
   "source": [
    "\n",
    "test3 = np.array(np.random.randint(0,10,25))\n",
    "test3 = test3.reshape(5,5)\n",
    "b3 = np.array(np.random.randint(0,10,5))\n",
    "print (test3)\n",
    "print (b3)\n",
    "print(Mysolve(test3,b3))\n",
    "print(np.linalg.solve(test3,b3))"
   ]
  },
  {
   "cell_type": "code",
   "execution_count": 506,
   "metadata": {},
   "outputs": [
    {
     "data": {
      "text/plain": [
       "array([ 0.15808574,  0.42805316, -0.90165032, -0.01419142,  0.87524752])"
      ]
     },
     "execution_count": 506,
     "metadata": {},
     "output_type": "execute_result"
    }
   ],
   "source": [
    "Mysolve(test3,b3)"
   ]
  },
  {
   "cell_type": "code",
   "execution_count": 507,
   "metadata": {},
   "outputs": [
    {
     "data": {
      "text/plain": [
       "array([ 0.15808581,  0.42805281, -0.90165017, -0.01419142,  0.87524752])"
      ]
     },
     "execution_count": 507,
     "metadata": {},
     "output_type": "execute_result"
    }
   ],
   "source": [
    "np.linalg.solve(test3,b3)"
   ]
  },
  {
   "cell_type": "markdown",
   "metadata": {},
   "source": [
    "In all three tests, my function generates the same results as np.linalg.solve does."
   ]
  },
  {
   "cell_type": "markdown",
   "metadata": {},
   "source": [
    "## Quesiton C"
   ]
  },
  {
   "cell_type": "markdown",
   "metadata": {},
   "source": [
    "Test the complexity of the function."
   ]
  },
  {
   "cell_type": "code",
   "execution_count": 529,
   "metadata": {},
   "outputs": [
    {
     "name": "stderr",
     "output_type": "stream",
     "text": [
      "/Users/simpson/anaconda3/lib/python3.6/site-packages/numpy/linalg/linalg.py:1874: RuntimeWarning: overflow encountered in det\n",
      "  r = _umath_linalg.det(a, signature=signature)\n"
     ]
    },
    {
     "name": "stdout",
     "output_type": "stream",
     "text": [
      "[0.00040340423583984375, 0.0009050369262695312, 0.0010700225830078125, 0.0030281543731689453, 0.005930423736572266, 0.0204617977142334, 0.08502864837646484, 0.387042760848999, 1.659745216369629, 6.654597282409668, 35.36165452003479]\n"
     ]
    }
   ],
   "source": [
    "import time\n",
    "np.random.seed(12321)\n",
    "k=range(11)\n",
    "T=[]\n",
    "for i in k:\n",
    "    test = np.array(np.random.randint(0,10,(2**i)**2))\n",
    "    test = test.reshape(2**i,2**i)\n",
    "    b = np.array(np.random.randint(0,10,2**i))\n",
    "    t=0\n",
    "    for j in range(0,7):\n",
    "        start = time.time()        \n",
    "        Mysolve(test,b)\n",
    "        end = time.time()\n",
    "        t=t+end-start\n",
    "        j=j+1    \n",
    "    T.append(np.mean(t))\n",
    "print(T)"
   ]
  },
  {
   "cell_type": "markdown",
   "metadata": {},
   "source": [
    "Plot the time spent and the dataset scale"
   ]
  },
  {
   "cell_type": "code",
   "execution_count": 547,
   "metadata": {
    "scrolled": true
   },
   "outputs": [
    {
     "data": {
      "text/plain": [
       "<function matplotlib.pyplot.show>"
      ]
     },
     "execution_count": 547,
     "metadata": {},
     "output_type": "execute_result"
    },
    {
     "data": {
      "image/png": "[encoded data removed]",
      "text/plain": [
       "<matplotlib.figure.Figure at 0x121a6a5f8>"
      ]
     },
     "metadata": {},
     "output_type": "display_data"
    }
   ],
   "source": [
    "import matplotlib.pyplot as plt\n",
    "plt.plot(k,np.log2(T))\n",
    "plt.show"
   ]
  },
  {
   "cell_type": "code",
   "execution_count": 541,
   "metadata": {},
   "outputs": [
    {
     "name": "stdout",
     "output_type": "stream",
     "text": [
      "309s is the total time spend to solve those systems.\n"
     ]
    }
   ],
   "source": [
    "print (\"%ds is the total time spend to solve those systems.\"%(sum(T)*7))"
   ]
  },
  {
   "cell_type": "markdown",
   "metadata": {},
   "source": [
    "This line seems to be like a straight line, this is reasonable since  the matrix size is $2^k$ and when we take the log we should get a linear relationship."
   ]
  },
  {
   "cell_type": "code",
   "execution_count": null,
   "metadata": {},
   "outputs": [],
   "source": []
  }
 ],
 "metadata": {
  "kernelspec": {
   "display_name": "Python 3",
   "language": "python",
   "name": "python3"
  },
  "language_info": {
   "codemirror_mode": {
    "name": "ipython",
    "version": 3
   },
   "file_extension": ".py",
   "mimetype": "text/x-python",
   "name": "python",
   "nbconvert_exporter": "python",
   "pygments_lexer": "ipython3",
   "version": "3.6.4"
  }
 },
 "nbformat": 4,
 "nbformat_minor": 2
}
